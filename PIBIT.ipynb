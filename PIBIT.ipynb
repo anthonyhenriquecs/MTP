{
  "nbformat": 4,
  "nbformat_minor": 0,
  "metadata": {
    "colab": {
      "provenance": [],
      "authorship_tag": "ABX9TyNjGHv7CV19DGSCyadW1IIx",
      "include_colab_link": true
    },
    "kernelspec": {
      "name": "python3",
      "display_name": "Python 3"
    },
    "language_info": {
      "name": "python"
    }
  },
  "cells": [
    {
      "cell_type": "markdown",
      "metadata": {
        "id": "view-in-github",
        "colab_type": "text"
      },
      "source": [
        "<a href=\"https://colab.research.google.com/github/anthonyhenriquecs/MTP/blob/main/PIBIT.ipynb\" target=\"_parent\"><img src=\"https://colab.research.google.com/assets/colab-badge.svg\" alt=\"Open In Colab\"/></a>"
      ]
    },
    {
      "cell_type": "code",
      "execution_count": 1,
      "metadata": {
        "colab": {
          "base_uri": "https://localhost:8080/",
          "height": 130
        },
        "id": "-ueyuy5dPHoM",
        "outputId": "fb93b7ed-7542-4fea-9f7f-401ce2c791e4"
      },
      "outputs": [
        {
          "output_type": "error",
          "ename": "IndentationError",
          "evalue": "ignored",
          "traceback": [
            "\u001b[0;36m  File \u001b[0;32m\"<ipython-input-1-0a897a52f656>\"\u001b[0;36m, line \u001b[0;32m2\u001b[0m\n\u001b[0;31m    get_ipython().run_line_magic('', '-------------- INÍCIO DO CÓDIGO --------------')\u001b[0m\n\u001b[0m    ^\u001b[0m\n\u001b[0;31mIndentationError\u001b[0m\u001b[0;31m:\u001b[0m unexpected indent\n"
          ]
        }
      ],
      "source": [
        "function [Kp,Ki,ISTSE] = BA(it,pop,C)\n",
        "    % -------------- INÍCIO DO CÓDIGO --------------\n",
        "\n",
        "    % ======================================================= %\n",
        "    % Os parâmetros internos do Bat Algorithm encontram-se    %\n",
        "    % definidos nesta seção, esses podem ser modificados para %\n",
        "    % garantir o melhor desempenho.                           %\n",
        "    % ======================================================= %\n",
        "    % População inicial de morcegos\n",
        "    n = pop;\n",
        "    % Número de gerações\n",
        "    N_gen = it;\n",
        "    % Valores iniciais de amplitude(A) e Frequencia(r)\n",
        "    A = 0.5;\n",
        "    r = 0.5;\n",
        "\n",
        "    % Esta é a faixa de frequência, ela determina as escalas\n",
        "    % Os valores podem ser alterados conforme necessário\n",
        "    Qmin = 0;         % Frequência mínima\n",
        "    Qmax = 2;         % Frequência máxima\n",
        "    % ======================================================= %\n",
        "    % Fim dos parametros internos do Bat Algorithm            %\n",
        "    % ======================================================= %\n",
        "\n",
        "    % ======================================================= %\n",
        "    % Os parâmetros do sistema de controle do trocador de     %\n",
        "    % calor encontram-se definidos nesta seção, para maiores  %\n",
        "    % informações consultar (De Paula; Damasceno, 2014).      %\n",
        "    % ======================================================= %\n",
        "    % Função de Transferência do Processo\n",
        "    G0 = tf(50,[30 1]);\n",
        "    % Função de Transferência da Válvula\n",
        "    Gv = tf(0.75*[.13],[3 1]);\n",
        "    % Função de Transferência do Sensor\n",
        "    Gs = tf(.16,[10 1]);\n",
        "    % Fator de escala do setpoint\n",
        "    Kr = 0.16;\n",
        "    % ======================================================= %\n",
        "    % Fim dos parametros do sistema de controle               %\n",
        "    % ======================================================= %\n",
        "    \n",
        "    % ======================================================= %\n",
        "    % Início das iterações do Bat Algorithm                   %\n",
        "    % ======================================================= %\n",
        "    % Dimensões do problema de otimização\n",
        "%     C = [2.6618 0.0919]; % Estes valores iniciais são estimados utilizando-se\n",
        "%     C = [10.71 0.437]; %Z-N\n",
        "    % os métodos sintonia de Ziegler-Nichols ou SIMC.\n",
        "    % Neste exemplo são utilizados os parametros\n",
        "    % inicialmente sintonizados pelo metodo SIMC.\n",
        "    ctype = length(C);\n",
        "    dim = ctype;         % Controlador proporcional+integral, dim=2\n",
        "    % Limite Mínimo de Busca\n",
        "    Lb = 0.5*ones(1,dim).*C;\n",
        "    % Limite Máximo de Busca\n",
        "    Ub = 2*ones(1,dim).*C;\n",
        "    % Inicializando vetores\n",
        "    Q = zeros(n,1);   % Frequencia\n",
        "    v = zeros(n,dim); % Velocidade\n",
        "    Fitness = zeros(1,n);\n",
        "    Sol = zeros(n,dim);\n",
        "    % Inicializando a população de morcegos\n",
        "    for i = 1:n\n",
        "        Sol(i,:)= Lb+(Ub-Lb)*rand(dim,dim);\n",
        "        Fitness(i) = pidFit(Sol(i,:),G0,Gv,Gs,Kr);\n",
        "    end\n",
        "    % Encontra a melhor solução inicial\n",
        "    [fmin,I] = min(Fitness);\n",
        "    best = Sol(I,:);\n",
        "    % Início do Laço Principal\n",
        "    for t1 = 1 : N_gen,\n",
        "        % Laço de iteração sobre todos os vetores (soluções candidatas)\n",
        "        for i = 1:n,\n",
        "\n",
        "            % Atualiza posição do morcego\n",
        "            Q(i) = Qmin + (Qmin - Qmax)*rand;\n",
        "            v(i,:) = v(i,:)+(Sol(i,:)- best)*Q(i);\n",
        "            S(i,:) = Sol(i,:)+v(i,:);\n",
        "\n",
        "            % Aplica limites\n",
        "            S(i,:) = simplebounds(S(i,:),Lb,Ub);\n",
        "\n",
        "            % Taxa de Pulsos\n",
        "            if rand > r\n",
        "                % O fator 0.1 limita o tamanho do passo nos voos aleatorios\n",
        "                S(i,:) = best + 0.1*randn(1,dim);\n",
        "            end\n",
        "            % Avalia nova solução\n",
        "            Fnew = pidFit(S(i,:),G0,Gv,Gs,Kr);\n",
        "\n",
        "            if (Fnew<=Fitness(i)) & (rand<A)\n",
        "                Sol(i,:) = S(i,:);\n",
        "                Fitness(i)=Fnew;\n",
        "            end\n",
        "            % Atualiza a melhor solução atual\n",
        "            if Fnew <= fmin\n",
        "                best = S(i,:);\n",
        "                fmin = Fnew;\n",
        "            end\n",
        "        end\n",
        "        %N_iter = N_iter + n;\n",
        "        fprintf('IT: %d\\n',t1);\n",
        "        fprintf('ISTSE: %f\\n',fmin);\n",
        "    end % Fim do Laço Principal\n",
        "\n",
        "    Kp = best(1);\n",
        "    Ki = best(2);\n",
        "    ISTSE = fmin;\n",
        "end\n",
        "Footer\n",
        "© 2022 GitHub, Inc.\n",
        "Footer navigation\n",
        "Terms\n",
        "Privacy"
      ]
    }
  ]
}